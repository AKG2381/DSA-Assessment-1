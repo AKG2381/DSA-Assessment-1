{
 "cells": [
  {
   "cell_type": "code",
   "execution_count": 1,
   "id": "1769356f",
   "metadata": {},
   "outputs": [],
   "source": [
    "def merge_conquer(left_arr,right_arr):\n",
    "    sorted_array=[]\n",
    "    \n",
    "    size_left=len(left_arr)\n",
    "    size_right=len(right_arr)\n",
    "    \n",
    "    i=0\n",
    "    j=0\n",
    "    \n",
    "    while i<size_left and j<size_right:\n",
    "        if left_arr[i]<right_arr[j]:\n",
    "            sorted_array.append(left_arr[i])\n",
    "            i+=1\n",
    "        else :\n",
    "            sorted_array.append(right_arr[j])\n",
    "            j+=1\n",
    "    if i<size_left:\n",
    "        sorted_array.extend(left_arr[i:])\n",
    "    if j<size_right:\n",
    "        sorted_array.extend(right_arr[j:])       \n",
    "    return sorted_array\n",
    "def merge_sort(array):\n",
    "    if len(array)<=1:\n",
    "        return array\n",
    "    left_array = array[:len(array)//2]\n",
    "    right_array = array[len(array)//2:]\n",
    "    left_array=merge_sort(left_array)\n",
    "    right_array=merge_sort(right_array)\n",
    "    return merge_conquer(left_array,right_array)"
   ]
  },
  {
   "cell_type": "code",
   "execution_count": 3,
   "id": "6ce79e79",
   "metadata": {},
   "outputs": [],
   "source": [
    "import random\n",
    "x=[random.randint(12,45) for i in range(10)]"
   ]
  },
  {
   "cell_type": "code",
   "execution_count": 4,
   "id": "003e8b70",
   "metadata": {},
   "outputs": [
    {
     "data": {
      "text/plain": [
       "[27, 33, 14, 34, 16, 19, 34, 15, 38, 14]"
      ]
     },
     "execution_count": 4,
     "metadata": {},
     "output_type": "execute_result"
    }
   ],
   "source": [
    "x"
   ]
  },
  {
   "cell_type": "code",
   "execution_count": 6,
   "id": "a79d54fd",
   "metadata": {},
   "outputs": [
    {
     "data": {
      "text/plain": [
       "[14, 14, 15, 16, 19, 27, 33, 34, 34, 38]"
      ]
     },
     "execution_count": 6,
     "metadata": {},
     "output_type": "execute_result"
    }
   ],
   "source": [
    "merge_sort(x) "
   ]
  }
 ],
 "metadata": {
  "kernelspec": {
   "display_name": "Python 3 (ipykernel)",
   "language": "python",
   "name": "python3"
  },
  "language_info": {
   "codemirror_mode": {
    "name": "ipython",
    "version": 3
   },
   "file_extension": ".py",
   "mimetype": "text/x-python",
   "name": "python",
   "nbconvert_exporter": "python",
   "pygments_lexer": "ipython3",
   "version": "3.10.4"
  }
 },
 "nbformat": 4,
 "nbformat_minor": 5
}
