{
 "cells": [
  {
   "cell_type": "markdown",
   "id": "74aa6b82",
   "metadata": {},
   "source": [
    "# Quick Sort"
   ]
  },
  {
   "cell_type": "code",
   "execution_count": 5,
   "id": "2907e351",
   "metadata": {},
   "outputs": [],
   "source": [
    "def pivot_partition(array,start_index,end_index):\n",
    "    i,j=0,end_index-1\n",
    "    pivot=array[end_index]\n",
    "    \n",
    "    while i<j:\n",
    "        while i<end_index and array[i] <pivot:\n",
    "            i+=1\n",
    "        while j>start_index and array[j] > pivot:\n",
    "            j-=1\n",
    "        if i<j:\n",
    "            array[i],array[j]=array[j],array[i]\n",
    "        if array[i]>pivot:\n",
    "            array[i],array[end_index]=array[end_index],array[i]\n",
    "    return i\n",
    "    "
   ]
  },
  {
   "cell_type": "code",
   "execution_count": 6,
   "id": "d4f09438",
   "metadata": {},
   "outputs": [
    {
     "data": {
      "text/plain": [
       "1"
      ]
     },
     "execution_count": 6,
     "metadata": {},
     "output_type": "execute_result"
    }
   ],
   "source": [
    "l=[2,9,8,6,5]\n",
    "# retrun the index of pivot\n",
    "pivot_partition(l,0,len(l)-1)"
   ]
  },
  {
   "cell_type": "code",
   "execution_count": 7,
   "id": "f76f7077",
   "metadata": {},
   "outputs": [],
   "source": [
    "def quick_sort(array,left_index,right_index):\n",
    "    if left_index < right_index:\n",
    "        position=pivot_partition(array,left_index,right_index)\n",
    "        quick_sort(array,left_index,position-1)\n",
    "        quick_sort(array,position,right_index-1)\n",
    "        return array\n",
    "       "
   ]
  },
  {
   "cell_type": "code",
   "execution_count": 8,
   "id": "a6832a58",
   "metadata": {},
   "outputs": [
    {
     "data": {
      "text/plain": [
       "[2, 5, 6, 8, 9]"
      ]
     },
     "execution_count": 8,
     "metadata": {},
     "output_type": "execute_result"
    }
   ],
   "source": [
    "quick_sort(l,0,len(l)-1)"
   ]
  },
  {
   "cell_type": "code",
   "execution_count": null,
   "id": "448db34e",
   "metadata": {},
   "outputs": [],
   "source": []
  }
 ],
 "metadata": {
  "kernelspec": {
   "display_name": "Python 3 (ipykernel)",
   "language": "python",
   "name": "python3"
  },
  "language_info": {
   "codemirror_mode": {
    "name": "ipython",
    "version": 3
   },
   "file_extension": ".py",
   "mimetype": "text/x-python",
   "name": "python",
   "nbconvert_exporter": "python",
   "pygments_lexer": "ipython3",
   "version": "3.10.4"
  }
 },
 "nbformat": 4,
 "nbformat_minor": 5
}
