{
 "cells": [
  {
   "cell_type": "code",
   "execution_count": 3,
   "id": "7fcb33b9",
   "metadata": {},
   "outputs": [],
   "source": [
    "def Insertion_sort(l):\n",
    "    for i in range(1,len(l)):\n",
    "        look_for=l[i]\n",
    "        j=i-1\n",
    "        while j>=0 and l[j]>look_for:\n",
    "            l[j + 1] = l[j]\n",
    "            j=j-1\n",
    "        l[j+1]=look_for\n",
    "    \n",
    "    return l"
   ]
  },
  {
   "cell_type": "code",
   "execution_count": 4,
   "id": "6ef166ea",
   "metadata": {},
   "outputs": [
    {
     "data": {
      "text/plain": [
       "[1, 3, 4, 5, 9]"
      ]
     },
     "execution_count": 4,
     "metadata": {},
     "output_type": "execute_result"
    }
   ],
   "source": [
    "Insertion_sort([9, 5, 1, 4, 3])"
   ]
  },
  {
   "cell_type": "code",
   "execution_count": null,
   "id": "e2905def",
   "metadata": {},
   "outputs": [],
   "source": []
  }
 ],
 "metadata": {
  "kernelspec": {
   "display_name": "Python 3 (ipykernel)",
   "language": "python",
   "name": "python3"
  },
  "language_info": {
   "codemirror_mode": {
    "name": "ipython",
    "version": 3
   },
   "file_extension": ".py",
   "mimetype": "text/x-python",
   "name": "python",
   "nbconvert_exporter": "python",
   "pygments_lexer": "ipython3",
   "version": "3.10.4"
  }
 },
 "nbformat": 4,
 "nbformat_minor": 5
}
