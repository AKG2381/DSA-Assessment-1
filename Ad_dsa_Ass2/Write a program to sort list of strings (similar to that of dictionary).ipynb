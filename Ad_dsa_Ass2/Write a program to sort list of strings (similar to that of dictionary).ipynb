{
 "cells": [
  {
   "cell_type": "code",
   "execution_count": 5,
   "id": "877b7c35",
   "metadata": {},
   "outputs": [],
   "source": [
    "l=['Write','a','program','to','sort','list','of','strings']\n",
    "def sort_strings(l):\n",
    "    for i in range(len(l)-1):\n",
    "        if l[i][0]>l[i+1][0]:\n",
    "            l[i],l[i+1]=l[i+1],l[i]\n",
    "    return l"
   ]
  },
  {
   "cell_type": "code",
   "execution_count": 6,
   "id": "11d36d53",
   "metadata": {},
   "outputs": [
    {
     "data": {
      "text/plain": [
       "['Write', 'a', 'program', 'sort', 'list', 'of', 'strings', 'to']"
      ]
     },
     "execution_count": 6,
     "metadata": {},
     "output_type": "execute_result"
    }
   ],
   "source": [
    "sort_strings(l)"
   ]
  },
  {
   "cell_type": "code",
   "execution_count": null,
   "id": "94b53823",
   "metadata": {},
   "outputs": [],
   "source": []
  }
 ],
 "metadata": {
  "kernelspec": {
   "display_name": "Python 3 (ipykernel)",
   "language": "python",
   "name": "python3"
  },
  "language_info": {
   "codemirror_mode": {
    "name": "ipython",
    "version": 3
   },
   "file_extension": ".py",
   "mimetype": "text/x-python",
   "name": "python",
   "nbconvert_exporter": "python",
   "pygments_lexer": "ipython3",
   "version": "3.10.4"
  }
 },
 "nbformat": 4,
 "nbformat_minor": 5
}
