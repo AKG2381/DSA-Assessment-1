{
 "cells": [
  {
   "cell_type": "markdown",
   "id": "7ecc3b11",
   "metadata": {},
   "source": [
    "# Merge Sort"
   ]
  },
  {
   "cell_type": "code",
   "execution_count": 7,
   "id": "241a38c2",
   "metadata": {},
   "outputs": [],
   "source": [
    "# these arrays left_arr,right_arr sorted arrays\n",
    "\n",
    "def merge_conquer(left_arr,right_arr):\n",
    "    sorted_array=[]\n",
    "    \n",
    "    size_left=len(left_arr)\n",
    "    size_right=len(right_arr)\n",
    "    \n",
    "    i=0\n",
    "    j=0\n",
    "    \n",
    "    while i<size_left and j<size_right:\n",
    "        if left_arr[i]<right_arr[j]:\n",
    "            sorted_array.append(left_arr[i])\n",
    "            i+=1\n",
    "        else :\n",
    "            sorted_array.append(right_arr[j])\n",
    "            j+=1\n",
    "    if i<size_left:\n",
    "        sorted_array.extend(left_arr[i:])\n",
    "    if j<size_right:\n",
    "        sorted_array.extend(right_arr[j:])       \n",
    "    return sorted_array"
   ]
  },
  {
   "cell_type": "code",
   "execution_count": 8,
   "id": "30edcbe7",
   "metadata": {},
   "outputs": [],
   "source": [
    "def merge_divide(array):\n",
    "    if len(array)<=1:\n",
    "        return array\n",
    "    left_array = array[:len(array)//2]\n",
    "    right_array = array[len(array)//2:]\n",
    "    left_array=merge_divide(left_array)\n",
    "    right_array=merge_divide(right_array)\n",
    "    return merge_conquer(left_array,right_array)\n",
    " \n",
    "    "
   ]
  },
  {
   "cell_type": "code",
   "execution_count": 9,
   "id": "8272d619",
   "metadata": {},
   "outputs": [
    {
     "data": {
      "text/plain": [
       "[1, 2, 3]"
      ]
     },
     "execution_count": 9,
     "metadata": {},
     "output_type": "execute_result"
    }
   ],
   "source": [
    "merge_divide([3,2,1])   "
   ]
  },
  {
   "cell_type": "code",
   "execution_count": 4,
   "id": "d8268f22",
   "metadata": {},
   "outputs": [
    {
     "name": "stdout",
     "output_type": "stream",
     "text": [
      "Sorted array is: \n",
      "1 5 6 9 10 12 \n"
     ]
    }
   ],
   "source": [
    "# MergeSort in Python\n",
    "\n",
    "\n",
    "def mergeSort(array):\n",
    "    if len(array) > 1:\n",
    "\n",
    "        #  r is the point where the array is divided into two subarrays\n",
    "        r = len(array)//2\n",
    "        L = array[:r]\n",
    "        M = array[r:]\n",
    "\n",
    "        # Sort the two halves\n",
    "        mergeSort(L)\n",
    "        mergeSort(M)\n",
    "\n",
    "        i = j = k = 0\n",
    "\n",
    "        # Until we reach either end of either L or M, pick larger among\n",
    "        # elements L and M and place them in the correct position at A[p..r]\n",
    "        while i < len(L) and j < len(M):\n",
    "            if L[i] < M[j]:\n",
    "                array[k] = L[i]\n",
    "                i += 1\n",
    "            else:\n",
    "                array[k] = M[j]\n",
    "                j += 1\n",
    "            k += 1\n",
    "\n",
    "        # When we run out of elements in either L or M,\n",
    "        # pick up the remaining elements and put in A[p..r]\n",
    "        while i < len(L):\n",
    "            array[k] = L[i]\n",
    "            i += 1\n",
    "            k += 1\n",
    "\n",
    "        while j < len(M):\n",
    "            array[k] = M[j]\n",
    "            j += 1\n",
    "            k += 1\n",
    "\n",
    "\n",
    "# Print the array\n",
    "def printList(array):\n",
    "    for i in range(len(array)):\n",
    "        print(array[i], end=\" \")\n",
    "    print()\n",
    "\n",
    "\n",
    "# Driver program\n",
    "if __name__ == '__main__':\n",
    "    array = [6, 5, 12, 10, 9, 1]\n",
    "\n",
    "    mergeSort(array)\n",
    "\n",
    "    print(\"Sorted array is: \")\n",
    "    printList(array)"
   ]
  },
  {
   "cell_type": "code",
   "execution_count": null,
   "id": "2ec94f9f",
   "metadata": {},
   "outputs": [],
   "source": []
  },
  {
   "cell_type": "code",
   "execution_count": null,
   "id": "cba98f6d",
   "metadata": {},
   "outputs": [],
   "source": []
  }
 ],
 "metadata": {
  "kernelspec": {
   "display_name": "Python 3 (ipykernel)",
   "language": "python",
   "name": "python3"
  },
  "language_info": {
   "codemirror_mode": {
    "name": "ipython",
    "version": 3
   },
   "file_extension": ".py",
   "mimetype": "text/x-python",
   "name": "python",
   "nbconvert_exporter": "python",
   "pygments_lexer": "ipython3",
   "version": "3.10.4"
  }
 },
 "nbformat": 4,
 "nbformat_minor": 5
}
