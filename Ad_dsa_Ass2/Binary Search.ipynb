{
 "cells": [
  {
   "cell_type": "code",
   "execution_count": 1,
   "id": "5e6c4c7f",
   "metadata": {},
   "outputs": [
    {
     "data": {
      "text/plain": [
       "4"
      ]
     },
     "execution_count": 1,
     "metadata": {},
     "output_type": "execute_result"
    }
   ],
   "source": [
    "lst=[1,2,3,4,5,6,7,8]\n",
    "\n",
    "def Binary_Search(lst,n):# list should be sorted\n",
    "    start_index=0\n",
    "    end_index=len(lst)-1\n",
    "    while start_index<=end_index:\n",
    "        mid_index= (start_index+end_index)//2\n",
    "        if lst[mid_index]==n:\n",
    "            return mid_index\n",
    "        elif lst[mid_index]>n:\n",
    "            end_index=mid_index-1\n",
    "        else:\n",
    "            start_index=mid_index+1\n",
    "    return -1\n",
    "Binary_Search(lst,5)            \n",
    "    "
   ]
  },
  {
   "cell_type": "code",
   "execution_count": null,
   "id": "3c477c07",
   "metadata": {},
   "outputs": [],
   "source": []
  }
 ],
 "metadata": {
  "kernelspec": {
   "display_name": "Python 3 (ipykernel)",
   "language": "python",
   "name": "python3"
  },
  "language_info": {
   "codemirror_mode": {
    "name": "ipython",
    "version": 3
   },
   "file_extension": ".py",
   "mimetype": "text/x-python",
   "name": "python",
   "nbconvert_exporter": "python",
   "pygments_lexer": "ipython3",
   "version": "3.10.4"
  }
 },
 "nbformat": 4,
 "nbformat_minor": 5
}
