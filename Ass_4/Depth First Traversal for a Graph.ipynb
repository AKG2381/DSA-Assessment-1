{
 "cells": [
  {
   "cell_type": "code",
   "execution_count": 1,
   "id": "9adda088",
   "metadata": {},
   "outputs": [],
   "source": [
    "graph={\n",
    "    'a':['b','c'],\n",
    "    'b':['a','g'],\n",
    "    'c':['a','d','e'],\n",
    "    'd':['c','e','h'],\n",
    "    'e':['c','d'],\n",
    "    'g':['b','h'],\n",
    "    'h':['d','g']     \n",
    "}"
   ]
  },
  {
   "cell_type": "code",
   "execution_count": 2,
   "id": "0f26908c",
   "metadata": {},
   "outputs": [],
   "source": [
    "def DFS(graph,visited,root_node):\n",
    "    if root_node not in visited:\n",
    "        print(root_node)\n",
    "        visited.add(root_node)\n",
    "        for e in graph[root_node]:\n",
    "            DFS(graph,visited,e) "
   ]
  },
  {
   "cell_type": "code",
   "execution_count": 9,
   "id": "f892b7f0",
   "metadata": {},
   "outputs": [
    {
     "name": "stdout",
     "output_type": "stream",
     "text": [
      "enter one of these dict_keys(['a', 'b', 'c', 'd', 'e', 'g', 'h']) :b\n"
     ]
    }
   ],
   "source": [
    "visited=set()\n",
    "x=graph.keys()\n",
    "root_node=input(f'enter one of these {x} :')\n"
   ]
  },
  {
   "cell_type": "code",
   "execution_count": 10,
   "id": "fb211b13",
   "metadata": {},
   "outputs": [
    {
     "name": "stdout",
     "output_type": "stream",
     "text": [
      "b\n",
      "a\n",
      "c\n",
      "d\n",
      "e\n",
      "h\n",
      "g\n"
     ]
    }
   ],
   "source": [
    "DFS(graph,visited,root_node)"
   ]
  },
  {
   "cell_type": "code",
   "execution_count": null,
   "id": "791a7e82",
   "metadata": {},
   "outputs": [],
   "source": []
  }
 ],
 "metadata": {
  "kernelspec": {
   "display_name": "Python 3 (ipykernel)",
   "language": "python",
   "name": "python3"
  },
  "language_info": {
   "codemirror_mode": {
    "name": "ipython",
    "version": 3
   },
   "file_extension": ".py",
   "mimetype": "text/x-python",
   "name": "python",
   "nbconvert_exporter": "python",
   "pygments_lexer": "ipython3",
   "version": "3.10.4"
  }
 },
 "nbformat": 4,
 "nbformat_minor": 5
}
