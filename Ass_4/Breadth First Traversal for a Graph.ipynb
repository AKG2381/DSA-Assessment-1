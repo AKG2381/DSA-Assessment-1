{
 "cells": [
  {
   "cell_type": "code",
   "execution_count": 1,
   "id": "562e5532",
   "metadata": {},
   "outputs": [],
   "source": [
    "graph={\n",
    "    'a':['b','c'],\n",
    "    'b':['a','g'],\n",
    "    'c':['a','d','e'],\n",
    "    'd':['c','e','h'],\n",
    "    'e':['c','d'],\n",
    "    'g':['b','h'],\n",
    "    'h':['d','g']     \n",
    "}"
   ]
  },
  {
   "cell_type": "code",
   "execution_count": 2,
   "id": "af482a79",
   "metadata": {},
   "outputs": [],
   "source": [
    "def BFS(graph,root_node):\n",
    "    queue=[]\n",
    "    visited=[]\n",
    "    queue.append(root_node)\n",
    "    visited.append(root_node)\n",
    "    while queue:\n",
    "        k=queue.pop(0)\n",
    "#         print(k)\n",
    "        for e in graph[k]:\n",
    "            if e not in visited:\n",
    "                queue.append(e)\n",
    "                visited.append(e)   \n",
    "    return visited"
   ]
  },
  {
   "cell_type": "code",
   "execution_count": 3,
   "id": "caf12d65",
   "metadata": {},
   "outputs": [
    {
     "name": "stdout",
     "output_type": "stream",
     "text": [
      " enter one of the following values dict_keys(['a', 'b', 'c', 'd', 'e', 'g', 'h']) : b\n"
     ]
    }
   ],
   "source": [
    "x=graph.keys()\n",
    "root_node=input(f\" enter one of the following values {x} : \")"
   ]
  },
  {
   "cell_type": "code",
   "execution_count": 4,
   "id": "b95ab296",
   "metadata": {},
   "outputs": [
    {
     "data": {
      "text/plain": [
       "['b', 'a', 'g', 'c', 'h', 'd', 'e']"
      ]
     },
     "execution_count": 4,
     "metadata": {},
     "output_type": "execute_result"
    }
   ],
   "source": [
    "BFS(graph,root_node)"
   ]
  }
 ],
 "metadata": {
  "kernelspec": {
   "display_name": "Python 3 (ipykernel)",
   "language": "python",
   "name": "python3"
  },
  "language_info": {
   "codemirror_mode": {
    "name": "ipython",
    "version": 3
   },
   "file_extension": ".py",
   "mimetype": "text/x-python",
   "name": "python",
   "nbconvert_exporter": "python",
   "pygments_lexer": "ipython3",
   "version": "3.10.4"
  }
 },
 "nbformat": 4,
 "nbformat_minor": 5
}
