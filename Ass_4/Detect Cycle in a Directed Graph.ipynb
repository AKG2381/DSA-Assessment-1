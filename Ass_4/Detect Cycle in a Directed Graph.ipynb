{
 "cells": [
  {
   "cell_type": "code",
   "execution_count": 1,
   "id": "698a4ed7",
   "metadata": {},
   "outputs": [],
   "source": [
    "graph={0: [1], 1: [2, 4, 3], 2: [2], 3: [1], 4: []}"
   ]
  },
  {
   "cell_type": "code",
   "execution_count": 2,
   "id": "73085e8e",
   "metadata": {},
   "outputs": [
    {
     "name": "stdout",
     "output_type": "stream",
     "text": [
      "{0: None, 1: None, 2: None, 3: None, 4: None}\n",
      "{0: 'notVisited', 1: 'notVisited', 2: 'notVisited', 3: 'notVisited', 4: 'notVisited'}\n"
     ]
    }
   ],
   "source": [
    "\n",
    "parent={}\n",
    "check={}\n",
    "for i in graph.keys():\n",
    "    check[i]=\"notVisited\"\n",
    "    parent[i]=None\n",
    "print(parent)\n",
    "print(check)  \n",
    "    "
   ]
  },
  {
   "cell_type": "code",
   "execution_count": 3,
   "id": "749bd6f8",
   "metadata": {},
   "outputs": [],
   "source": [
    "def dfs(u,check):\n",
    "    check[u]=\"Visiting\"\n",
    "    for v in graph[u]:\n",
    "        if check[v]==\"notVisited\":\n",
    "            cycle=dfs(v,check)\n",
    "            if cycle:\n",
    "                return True\n",
    "        elif check[v]==\"Visiting\":\n",
    "            print(\"cycle found\",u,\"to\",v)\n",
    "            return True\n",
    "    check[u]=\"Visited\"\n",
    "    return False\n",
    "    "
   ]
  },
  {
   "cell_type": "code",
   "execution_count": 4,
   "id": "34111d8b",
   "metadata": {},
   "outputs": [
    {
     "name": "stdout",
     "output_type": "stream",
     "text": [
      "cycle found 2 to 2\n",
      "Is cyclic :  True\n",
      "###########\n",
      "cycle found 3 to 1\n",
      "Is cyclic :  True\n",
      "###########\n",
      "total number of cycles 2\n"
     ]
    }
   ],
   "source": [
    "is_cyclic = False\n",
    "count=0\n",
    "for u in graph.keys():\n",
    "    if check[u] == \"notVisited\":\n",
    "        is_cyclic = dfs(u, check)\n",
    "        if is_cyclic:\n",
    "            print (\"Is cyclic : \" ,is_cyclic)\n",
    "            print(\"###########\")\n",
    "            count+=1\n",
    "print('total number of cycles',count)"
   ]
  },
  {
   "cell_type": "code",
   "execution_count": null,
   "id": "402ed13c",
   "metadata": {},
   "outputs": [],
   "source": []
  }
 ],
 "metadata": {
  "kernelspec": {
   "display_name": "Python 3 (ipykernel)",
   "language": "python",
   "name": "python3"
  },
  "language_info": {
   "codemirror_mode": {
    "name": "ipython",
    "version": 3
   },
   "file_extension": ".py",
   "mimetype": "text/x-python",
   "name": "python",
   "nbconvert_exporter": "python",
   "pygments_lexer": "ipython3",
   "version": "3.10.4"
  }
 },
 "nbformat": 4,
 "nbformat_minor": 5
}
