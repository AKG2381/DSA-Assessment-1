{
 "cells": [
  {
   "cell_type": "markdown",
   "id": "ffcdbcfa",
   "metadata": {},
   "source": [
    "# Problem Statement - 2 ( Algorithms )\n",
    "Max Score: 50\n",
    "\n",
    "### Given a string str, your task is to write a program which takes a string str as its only input and returns an integer denoting the no of palindromic subsequence (need not necessarily be distinct) which could be formed from the string str.\n",
    "\n",
    "### Input Format:\n",
    "\n",
    "***The first and only line of input contains string str.***\n",
    "\n",
    "### Output Format:\n",
    "\n",
    "***The output will be an integer denoting the no of palindromic subsequence which could be formed from the string str.***\n",
    "\n",
    "#### Sample Input :\n",
    "\n",
    ">abcdef\n",
    "\n",
    "#### Sample Output :\n",
    "\n",
    ">6\n",
    "\n",
    "#### Explanation:\n",
    "\n",
    ">For string 'abcdef' palindromic subsequence are : \"a\" ,\"b\", \"c\" ,\"d\",\"e\",\"f\""
   ]
  },
  {
   "cell_type": "code",
   "execution_count": 2,
   "id": "cb7043db",
   "metadata": {},
   "outputs": [
    {
     "ename": "NameError",
     "evalue": "name 'countPS' is not defined",
     "output_type": "error",
     "traceback": [
      "\u001b[1;31m---------------------------------------------------------------------------\u001b[0m",
      "\u001b[1;31mNameError\u001b[0m                                 Traceback (most recent call last)",
      "Input \u001b[1;32mIn [2]\u001b[0m, in \u001b[0;36m<cell line: 28>\u001b[1;34m()\u001b[0m\n\u001b[0;32m     24\u001b[0m \u001b[38;5;28;01mdef\u001b[39;00m \u001b[38;5;21mcountPsubs1\u001b[39m(s):\n\u001b[0;32m     26\u001b[0m     \u001b[38;5;28;01mreturn\u001b[39;00m countPsubs(\u001b[38;5;241m0\u001b[39m, \u001b[38;5;28mlen\u001b[39m(s) \u001b[38;5;241m-\u001b[39m \u001b[38;5;241m1\u001b[39m, s)\n\u001b[1;32m---> 28\u001b[0m \u001b[43mcountPsubs1\u001b[49m\u001b[43m(\u001b[49m\u001b[38;5;124;43m\"\u001b[39;49m\u001b[38;5;124;43mabcde\u001b[39;49m\u001b[38;5;124;43m\"\u001b[39;49m\u001b[43m)\u001b[49m\n",
      "Input \u001b[1;32mIn [2]\u001b[0m, in \u001b[0;36mcountPsubs1\u001b[1;34m(s)\u001b[0m\n\u001b[0;32m     24\u001b[0m \u001b[38;5;28;01mdef\u001b[39;00m \u001b[38;5;21mcountPsubs1\u001b[39m(s):\n\u001b[1;32m---> 26\u001b[0m     \u001b[38;5;28;01mreturn\u001b[39;00m \u001b[43mcountPsubs\u001b[49m\u001b[43m(\u001b[49m\u001b[38;5;241;43m0\u001b[39;49m\u001b[43m,\u001b[49m\u001b[43m \u001b[49m\u001b[38;5;28;43mlen\u001b[39;49m\u001b[43m(\u001b[49m\u001b[43ms\u001b[49m\u001b[43m)\u001b[49m\u001b[43m \u001b[49m\u001b[38;5;241;43m-\u001b[39;49m\u001b[43m \u001b[49m\u001b[38;5;241;43m1\u001b[39;49m\u001b[43m,\u001b[49m\u001b[43m \u001b[49m\u001b[43ms\u001b[49m\u001b[43m)\u001b[49m\n",
      "Input \u001b[1;32mIn [2]\u001b[0m, in \u001b[0;36mcountPsubs\u001b[1;34m(i, j, s)\u001b[0m\n\u001b[0;32m     21\u001b[0m     \u001b[38;5;28;01mreturn\u001b[39;00m (\u001b[38;5;241m1\u001b[39m \u001b[38;5;241m+\u001b[39m countPS(i \u001b[38;5;241m+\u001b[39m \u001b[38;5;241m1\u001b[39m, j, s) \u001b[38;5;241m+\u001b[39m countPS(i, j \u001b[38;5;241m-\u001b[39m \u001b[38;5;241m1\u001b[39m, s))\n\u001b[0;32m     22\u001b[0m \u001b[38;5;28;01melse\u001b[39;00m:\n\u001b[1;32m---> 23\u001b[0m     \u001b[38;5;28;01mreturn\u001b[39;00m ((\u001b[43mcountPS\u001b[49m(i \u001b[38;5;241m+\u001b[39m \u001b[38;5;241m1\u001b[39m, j, s) \u001b[38;5;241m+\u001b[39m countPS(i, j \u001b[38;5;241m-\u001b[39m \u001b[38;5;241m1\u001b[39m, s))\u001b[38;5;241m-\u001b[39m countPS(i \u001b[38;5;241m+\u001b[39m \u001b[38;5;241m1\u001b[39m, j \u001b[38;5;241m-\u001b[39m \u001b[38;5;241m1\u001b[39m, s))\n",
      "\u001b[1;31mNameError\u001b[0m: name 'countPS' is not defined"
     ]
    }
   ],
   "source": [
    "\"\"\"\n",
    "    Time Complexity: O(2^N)\n",
    "    Space Complexity: O(N)\n",
    "\n",
    "    where 'N' is the length of the string.\n",
    "\"\"\"\n",
    "\n",
    "\n",
    "#    Returns the number of palindromic subsequences in the substring [i: j] of string ‘s’.\n",
    "def countPsubs(i, j, s):\n",
    "\n",
    "    if (i > j):\n",
    "        #    Invalid substring.\n",
    "        return 0\n",
    "\n",
    "    if (i == j):\n",
    "        #    Every single character in the string is a palindrome itself.\n",
    "        return 1\n",
    "\n",
    "    elif (s[i] == s[j]):\n",
    "        return (1 + countPsubs(i + 1, j, s) + countPsubs(i, j - 1, s))\n",
    "    else:\n",
    "        return ((countPS(i + 1, j, s) + countPS(i, j - 1, s))- countPS(i + 1, j - 1, s))\n",
    "def countPsubs1(s):\n",
    "\n",
    "    return countPsubs(0, len(s) - 1, s)\n",
    "\n",
    "countPsubs1(\"abcde\")    \n",
    "        \n",
    "    "
   ]
  },
  {
   "cell_type": "code",
   "execution_count": 11,
   "id": "ca06e9c3",
   "metadata": {},
   "outputs": [
    {
     "name": "stdout",
     "output_type": "stream",
     "text": [
      "7\n"
     ]
    }
   ],
   "source": [
    "def countPS(str):\n",
    " \n",
    "    N = len(str)\n",
    " \n",
    "    # Create a 2D array to store the count\n",
    "    # of palindromic subsequence\n",
    "    cps = [[0 for i in range(N + 2)]for j in range(N + 2)]\n",
    " \n",
    "    # palindromic subsequence of length 1\n",
    "    for i in range(N):\n",
    "        cps[i][i] = 1\n",
    " \n",
    "    # check subsequence of length L\n",
    "    # is palindrome or not\n",
    "    for L in range(2, N + 1):\n",
    " \n",
    "        for i in range(N):\n",
    "            k = L + i - 1\n",
    "            if (k < N):\n",
    "                if (str[i] == str[k]):\n",
    "                    cps[i][k] = (cps[i][k - 1] +\n",
    "                                 cps[i + 1][k] + 1)\n",
    "                else:\n",
    "                    cps[i][k] = (cps[i][k - 1] +\n",
    "                                 cps[i + 1][k] -\n",
    "                                 cps[i + 1][k - 1])\n",
    " \n",
    "    # return total palindromic subsequence\n",
    "    return cps[0][N - 1]\n",
    "\n",
    "\n",
    "# Driver program\n",
    "str = \"aaa\"\n",
    "print(countPS(str))\n"
   ]
  },
  {
   "cell_type": "code",
   "execution_count": null,
   "id": "01d83eaf",
   "metadata": {},
   "outputs": [],
   "source": [
    "\"\"\"\n",
    "    Time Complexity: O(2^N)\n",
    "    Space Complexity: O(N)\n",
    "\n",
    "    where 'N' is the length of the string.\n",
    "\"\"\"\n",
    "\n",
    "# mod = (10 ** 9) + 7\n",
    "\n",
    "#    Returns the number of palindromic subsequences in the substring [i: j] of string ‘s’.\n",
    "def countPS(i, j, s):\n",
    "\n",
    "    if (i > j):\n",
    "\n",
    "        #    Invalid substring.\n",
    "        return 0\n",
    "\n",
    "    if (i == j):\n",
    "\n",
    "        #    Every single character in the string is a palindrome itself.\n",
    "        return 1\n",
    "\n",
    "    elif (s[i] == s[j]):\n",
    "        return (1 + countPS(i + 1, j, s) + countPS(i, j - 1, s))\n",
    "#         return (1 + countPS(i + 1, j, s) + countPS(i, j - 1, s)) % mod\n",
    "    else:\n",
    "        return ((countPS(i + 1, j, s) + countPS(i, j - 1, s))- countPS(i + 1, j - 1, s) )\n",
    "#         return ((countPS(i + 1, j, s) + countPS(i, j - 1, s)) % mod - countPS(i + 1, j - 1, s) + mod) % mod\n",
    "\n",
    "def countPalindromicSubseq(s):\n",
    "\n",
    "    return countPS(0, len(s) - 1, s)\n",
    "\n",
    "countPalindromicSubseq(\"aaa\")    \n",
    "        "
   ]
  }
 ],
 "metadata": {
  "kernelspec": {
   "display_name": "Python 3 (ipykernel)",
   "language": "python",
   "name": "python3"
  },
  "language_info": {
   "codemirror_mode": {
    "name": "ipython",
    "version": 3
   },
   "file_extension": ".py",
   "mimetype": "text/x-python",
   "name": "python",
   "nbconvert_exporter": "python",
   "pygments_lexer": "ipython3",
   "version": "3.10.4"
  }
 },
 "nbformat": 4,
 "nbformat_minor": 5
}
