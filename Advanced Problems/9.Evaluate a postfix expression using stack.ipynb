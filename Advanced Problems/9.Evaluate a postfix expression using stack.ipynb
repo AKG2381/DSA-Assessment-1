{
 "cells": [
  {
   "cell_type": "code",
   "execution_count": 20,
   "id": "a800ee6f",
   "metadata": {},
   "outputs": [
    {
     "data": {
      "text/plain": [
       "9"
      ]
     },
     "execution_count": 20,
     "metadata": {},
     "output_type": "execute_result"
    }
   ],
   "source": [
    "class Stack :\n",
    "    def __init__(self):\n",
    "        self.stack = []\n",
    "    def push_(self,data):\n",
    "        self.stack.append(data)\n",
    "    def pop_(self):\n",
    "        if len(self.stack)==0:\n",
    "            return 'Stack is empty'\n",
    "        return self.stack.pop()\n",
    "    def evaluate_exp(self,expession):\n",
    "        for i in expession:\n",
    "            if i.isdigit():\n",
    "                self.push_(i)\n",
    "            else:\n",
    "                val1=self.pop_()\n",
    "                val2=self.pop_()\n",
    "                \n",
    "                self.push_(str(eval(val2+i+val1)))\n",
    "        return int(self.pop_())\n",
    "                    \n",
    "s=Stack()\n",
    "s.evaluate_exp('43-54+*')                \n",
    "                \n",
    "        \n",
    "        "
   ]
  },
  {
   "cell_type": "code",
   "execution_count": null,
   "id": "42d9a567",
   "metadata": {},
   "outputs": [],
   "source": []
  }
 ],
 "metadata": {
  "kernelspec": {
   "display_name": "Python 3 (ipykernel)",
   "language": "python",
   "name": "python3"
  },
  "language_info": {
   "codemirror_mode": {
    "name": "ipython",
    "version": 3
   },
   "file_extension": ".py",
   "mimetype": "text/x-python",
   "name": "python",
   "nbconvert_exporter": "python",
   "pygments_lexer": "ipython3",
   "version": "3.10.4"
  }
 },
 "nbformat": 4,
 "nbformat_minor": 5
}
