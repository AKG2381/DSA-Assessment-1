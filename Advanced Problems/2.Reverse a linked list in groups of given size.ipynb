{
 "cells": [
  {
   "cell_type": "code",
   "execution_count": 14,
   "id": "84e1fc84",
   "metadata": {},
   "outputs": [],
   "source": [
    "# creating a node\n",
    "class Node:\n",
    "    def __init__(self, data=None):\n",
    "        self.data = data\n",
    "        self.next = None        "
   ]
  },
  {
   "cell_type": "code",
   "execution_count": 15,
   "id": "bbdc8b90",
   "metadata": {},
   "outputs": [],
   "source": [
    "# creating a linked List\n",
    "class LinkedList:\n",
    "    def __init__(self):\n",
    "        self.head=None\n",
    "    def insert_at_end(self,data):\n",
    "        if self.head is None:\n",
    "            self.head=Node(data)\n",
    "            return\n",
    "        itr=self.head\n",
    "        while itr.next:\n",
    "            itr=itr.next\n",
    "        itr.next=Node(data)\n",
    "    def print(self):\n",
    "        if self.head is None:\n",
    "            print(\"Linked list is empty\")\n",
    "        itr=self.head\n",
    "        while itr:\n",
    "            print(itr.data,end=\"---->\")\n",
    "            itr=itr.next\n",
    "    \n",
    "    def reverse(self, head, k):\n",
    "       \n",
    "        if head == None:\n",
    "            return None\n",
    "        \n",
    "        current = head\n",
    "        next = None\n",
    "        prev = None\n",
    "        count = 0\n",
    "\n",
    "        while(current is not None and count < k):\n",
    "            next = current.next\n",
    "            current.next = prev\n",
    "            prev = current\n",
    "            current = next\n",
    "            count += 1\n",
    " \n",
    "        if next is not None:\n",
    "            head.next = self.reverse(next, k)\n",
    " \n",
    "        return prev\n",
    "        "
   ]
  },
  {
   "cell_type": "code",
   "execution_count": 16,
   "id": "2ac4aa71",
   "metadata": {},
   "outputs": [],
   "source": [
    "l=LinkedList()"
   ]
  },
  {
   "cell_type": "code",
   "execution_count": 17,
   "id": "7b28fd21",
   "metadata": {},
   "outputs": [
    {
     "name": "stdout",
     "output_type": "stream",
     "text": [
      "1---->2---->3---->4---->5---->6---->7---->"
     ]
    }
   ],
   "source": [
    "l.insert_at_end(1)\n",
    "l.insert_at_end(2)\n",
    "l.insert_at_end(3)\n",
    "l.insert_at_end(4)\n",
    "l.insert_at_end(5)\n",
    "l.insert_at_end(6)\n",
    "l.insert_at_end(7)\n",
    "l.print()"
   ]
  },
  {
   "cell_type": "code",
   "execution_count": 22,
   "id": "3cd10a59",
   "metadata": {},
   "outputs": [
    {
     "name": "stdout",
     "output_type": "stream",
     "text": [
      "Given linked list\n",
      "1---->2---->3---->4---->5---->6---->7---->\n",
      "Reversed Linked list\n",
      "2---->1---->4---->3---->6---->5---->7---->"
     ]
    }
   ],
   "source": [
    "print(\"Given linked list\")\n",
    "l.print()\n",
    "\n",
    "l.head = l.reverse(l.head, 2) \n",
    "print (\"\\nReversed Linked list\")\n",
    "l.print()"
   ]
  },
  {
   "cell_type": "markdown",
   "id": "cad3a7e4",
   "metadata": {},
   "source": []
  },
  {
   "cell_type": "code",
   "execution_count": 19,
   "id": "cd29a08d",
   "metadata": {},
   "outputs": [],
   "source": []
  },
  {
   "cell_type": "code",
   "execution_count": null,
   "id": "057ec2e8",
   "metadata": {},
   "outputs": [],
   "source": []
  }
 ],
 "metadata": {
  "kernelspec": {
   "display_name": "Python 3 (ipykernel)",
   "language": "python",
   "name": "python3"
  },
  "language_info": {
   "codemirror_mode": {
    "name": "ipython",
    "version": 3
   },
   "file_extension": ".py",
   "mimetype": "text/x-python",
   "name": "python",
   "nbconvert_exporter": "python",
   "pygments_lexer": "ipython3",
   "version": "3.10.4"
  }
 },
 "nbformat": 4,
 "nbformat_minor": 5
}
