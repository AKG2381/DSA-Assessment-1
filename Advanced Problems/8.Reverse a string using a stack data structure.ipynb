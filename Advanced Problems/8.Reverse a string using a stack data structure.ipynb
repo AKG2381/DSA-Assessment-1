{
 "cells": [
  {
   "cell_type": "code",
   "execution_count": 12,
   "id": "f965389b",
   "metadata": {},
   "outputs": [
    {
     "name": "stdout",
     "output_type": "stream",
     "text": [
      "Reversed string is ziuQskeeG\n"
     ]
    }
   ],
   "source": [
    "class Stack() :\n",
    "    def __init__(self):\n",
    "        self.stack=[] \n",
    "    def size(self):\n",
    "        return len(self.stack)\n",
    "\n",
    "    def isEmpty(self):\n",
    "        if self.size() == 0:\n",
    "            return true\n",
    "\n",
    "    def push(self,item):\n",
    "        self.stack.append(item)\n",
    "\n",
    "    def pop(self):\n",
    "        if self.isEmpty():\n",
    "            return\n",
    "        return self.stack.pop()\n",
    "    \n",
    "    def reverse(self,string):\n",
    "        n = len(string)\n",
    "\n",
    "        stack = Stack()\n",
    "\n",
    "        for i in range(0, n, 1):\n",
    "            self.push(string[i])\n",
    "        string = \"\"\n",
    "        for i in range(0, n, 1):\n",
    "            string += self.pop()\n",
    "\n",
    "        return string\n",
    "\n",
    "# Driver program to test above functions\n",
    "string = \"GeeksQuiz\"\n",
    "S=Stack()\n",
    "string = S.reverse(string)\n",
    "print(\"Reversed string is \" + string)"
   ]
  },
  {
   "cell_type": "code",
   "execution_count": null,
   "id": "2c46488d",
   "metadata": {},
   "outputs": [],
   "source": []
  },
  {
   "cell_type": "code",
   "execution_count": null,
   "id": "198ec583",
   "metadata": {},
   "outputs": [],
   "source": []
  }
 ],
 "metadata": {
  "kernelspec": {
   "display_name": "Python 3 (ipykernel)",
   "language": "python",
   "name": "python3"
  },
  "language_info": {
   "codemirror_mode": {
    "name": "ipython",
    "version": 3
   },
   "file_extension": ".py",
   "mimetype": "text/x-python",
   "name": "python",
   "nbconvert_exporter": "python",
   "pygments_lexer": "ipython3",
   "version": "3.10.4"
  }
 },
 "nbformat": 4,
 "nbformat_minor": 5
}
