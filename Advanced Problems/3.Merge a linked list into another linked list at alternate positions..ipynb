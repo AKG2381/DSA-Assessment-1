{
 "cells": [
  {
   "cell_type": "markdown",
   "id": "72530dcc",
   "metadata": {},
   "source": [
    "# Merge a linked list into another linked list at alternate positions."
   ]
  },
  {
   "cell_type": "code",
   "execution_count": 21,
   "id": "fb025733",
   "metadata": {},
   "outputs": [],
   "source": [
    "# creating Node\n",
    "class Node:\n",
    "    def __init__(self, data=None, next=None):\n",
    "        self.data = data\n",
    "        self.next = next"
   ]
  },
  {
   "cell_type": "code",
   "execution_count": 22,
   "id": "ffeab43c",
   "metadata": {},
   "outputs": [],
   "source": [
    "# cearing a LnkedList\n",
    "class LinkedList:\n",
    "    def __init__(self):\n",
    "        self.head=None\n",
    "    def printLL(self):\n",
    "        if self.head is None:\n",
    "            print(\"Linked list is empty\")\n",
    "        itr=self.head\n",
    "        while itr:\n",
    "            print(itr.data,end=\"---->\")\n",
    "            itr=itr.next\n",
    "    def insert_at_end(self,data):\n",
    "        if self.head is None:\n",
    "            self.head=Node(data,None)\n",
    "            return\n",
    "        itr=self.head\n",
    "        while itr.next:\n",
    "            itr=itr.next\n",
    "        itr.next=Node(data,None)\n",
    "    def create_new_LL(self,list):\n",
    "        self.head=None\n",
    "        for data in list:\n",
    "            self.insert_at_end(data)\n",
    "    def get_length(self):\n",
    "        count=0\n",
    "        itr=self.head\n",
    "        while itr:\n",
    "            count+=1\n",
    "            itr=itr.next\n",
    "        return count\n",
    "    def connect_two_LinkedList(self,head_1,head_2):\n",
    "        x=l1.get_length()+l2.get_length()\n",
    "        itr1=head_1\n",
    "        itr2=head_2\n",
    "        next1=None\n",
    "        next2=None\n",
    "        if self.head is None:\n",
    "            self.head=Node(itr1.data)\n",
    "            x-=1\n",
    "        itr1=head_1.next\n",
    "        itr=self.head\n",
    "        while x:\n",
    "            if x%2==0:\n",
    "                next1=itr1.next\n",
    "                itr.next=itr1\n",
    "                itr1=next1\n",
    "            if x%2!=0:\n",
    "                next2=itr2.next\n",
    "                itr.next=itr2\n",
    "                itr2=next2\n",
    "            x-=1\n",
    "            itr=itr.next"
   ]
  },
  {
   "cell_type": "code",
   "execution_count": 23,
   "id": "d6cb1861",
   "metadata": {},
   "outputs": [
    {
     "name": "stdout",
     "output_type": "stream",
     "text": [
      "1---->3---->5---->7---->9---->"
     ]
    }
   ],
   "source": [
    "l1=LinkedList()\n",
    "l1.insert_at_end(1)\n",
    "l1.insert_at_end(3)\n",
    "l1.insert_at_end(5)\n",
    "l1.insert_at_end(7)\n",
    "l1.insert_at_end(9)\n",
    "l1.printLL()"
   ]
  },
  {
   "cell_type": "code",
   "execution_count": 24,
   "id": "1e556af4",
   "metadata": {},
   "outputs": [
    {
     "name": "stdout",
     "output_type": "stream",
     "text": [
      "2---->4---->6---->8---->10---->"
     ]
    }
   ],
   "source": [
    "l2=LinkedList()\n",
    "l2.insert_at_end(2)\n",
    "l2.insert_at_end(4)\n",
    "l2.insert_at_end(6)\n",
    "l2.insert_at_end(8)\n",
    "l2.insert_at_end(10)\n",
    "l2.printLL()"
   ]
  },
  {
   "cell_type": "code",
   "execution_count": 25,
   "id": "9345ece7",
   "metadata": {},
   "outputs": [
    {
     "name": "stdout",
     "output_type": "stream",
     "text": [
      "1---->2---->3---->4---->5---->6---->7---->8---->9---->10---->"
     ]
    }
   ],
   "source": [
    "# merging l1,l2 at alternate positions\n",
    "l3=LinkedList()\n",
    "l3.connect_two_LinkedList(l1.head,l2.head)\n",
    "l3.printLL()"
   ]
  },
  {
   "cell_type": "code",
   "execution_count": null,
   "id": "790b7211",
   "metadata": {},
   "outputs": [],
   "source": []
  }
 ],
 "metadata": {
  "kernelspec": {
   "display_name": "Python 3 (ipykernel)",
   "language": "python",
   "name": "python3"
  },
  "language_info": {
   "codemirror_mode": {
    "name": "ipython",
    "version": 3
   },
   "file_extension": ".py",
   "mimetype": "text/x-python",
   "name": "python",
   "nbconvert_exporter": "python",
   "pygments_lexer": "ipython3",
   "version": "3.10.4"
  }
 },
 "nbformat": 4,
 "nbformat_minor": 5
}
