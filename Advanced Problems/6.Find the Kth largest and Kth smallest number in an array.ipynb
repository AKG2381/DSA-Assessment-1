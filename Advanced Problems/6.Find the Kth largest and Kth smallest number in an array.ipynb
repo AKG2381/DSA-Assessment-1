{
 "cells": [
  {
   "cell_type": "code",
   "execution_count": 7,
   "id": "9f553279",
   "metadata": {},
   "outputs": [
    {
     "name": "stdout",
     "output_type": "stream",
     "text": [
      "Kth smallest element is : 7\n",
      "kth largest element is : 45\n"
     ]
    }
   ],
   "source": [
    "def Find_Kthsmallest_Kthlargest(array,kth_small,kth_large):\n",
    "    arr.sort()\n",
    "    print('Kth smallest element is :',arr[kth_small-1])\n",
    "    print(\"kth largest element is :\",arr[len(arr)-kth_large])\n",
    "\n",
    "\n",
    "# Driver code\n",
    "if __name__ == '__main__':\n",
    "    arr = [12, 3, 5, 7, 19,45,32,12,34,85]\n",
    "    kth_small = 3\n",
    "    kth_large = 2\n",
    "\n",
    "    # Function call\n",
    "    Find_Kthsmallest_Kthlargest(arr, kth_small, kth_large)\n",
    "    "
   ]
  },
  {
   "cell_type": "code",
   "execution_count": null,
   "id": "586936c5",
   "metadata": {},
   "outputs": [],
   "source": []
  }
 ],
 "metadata": {
  "kernelspec": {
   "display_name": "Python 3 (ipykernel)",
   "language": "python",
   "name": "python3"
  },
  "language_info": {
   "codemirror_mode": {
    "name": "ipython",
    "version": 3
   },
   "file_extension": ".py",
   "mimetype": "text/x-python",
   "name": "python",
   "nbconvert_exporter": "python",
   "pygments_lexer": "ipython3",
   "version": "3.10.4"
  }
 },
 "nbformat": 4,
 "nbformat_minor": 5
}
