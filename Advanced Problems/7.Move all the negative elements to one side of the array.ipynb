{
 "cells": [
  {
   "cell_type": "code",
   "execution_count": 5,
   "id": "986c1454",
   "metadata": {},
   "outputs": [],
   "source": [
    "def Negetive_positive(array):\n",
    "    i=-1\n",
    "    j=0\n",
    "    while j<=len(array)-1:\n",
    "        if array[j]<0:\n",
    "            i+=1\n",
    "            array[i],array[j]=array[j],array[i]\n",
    "        j+=1\n",
    "    return array\n",
    "            \n",
    "            "
   ]
  },
  {
   "cell_type": "code",
   "execution_count": 6,
   "id": "62db786c",
   "metadata": {},
   "outputs": [
    {
     "data": {
      "text/plain": [
       "[-1, -3, -7, 4, 5, 6, 2, 8, 9]"
      ]
     },
     "execution_count": 6,
     "metadata": {},
     "output_type": "execute_result"
    }
   ],
   "source": [
    "Negetive_positive([-1, 2, -3, 4, 5, 6, -7, 8, 9])"
   ]
  },
  {
   "cell_type": "code",
   "execution_count": null,
   "id": "c6547595",
   "metadata": {},
   "outputs": [],
   "source": []
  }
 ],
 "metadata": {
  "kernelspec": {
   "display_name": "Python 3 (ipykernel)",
   "language": "python",
   "name": "python3"
  },
  "language_info": {
   "codemirror_mode": {
    "name": "ipython",
    "version": 3
   },
   "file_extension": ".py",
   "mimetype": "text/x-python",
   "name": "python",
   "nbconvert_exporter": "python",
   "pygments_lexer": "ipython3",
   "version": "3.10.4"
  }
 },
 "nbformat": 4,
 "nbformat_minor": 5
}
