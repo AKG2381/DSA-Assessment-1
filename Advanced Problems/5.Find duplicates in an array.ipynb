{
 "cells": [
  {
   "cell_type": "code",
   "execution_count": null,
   "id": "c38ce0c4",
   "metadata": {},
   "outputs": [],
   "source": [
    "\n"
   ]
  },
  {
   "cell_type": "code",
   "execution_count": 1,
   "id": "0d4b4dd6",
   "metadata": {},
   "outputs": [],
   "source": [
    "def Dupplicates(array):\n",
    "    \n",
    "    print('repeating elements are : ', end=\"\")\n",
    "    \n",
    "    for i in range(len(array)):\n",
    "        \n",
    "        if array[i] in array[i+1:]:\n",
    "            \n",
    "            print(i,end=' ')\n",
    "\n",
    "    "
   ]
  },
  {
   "cell_type": "code",
   "execution_count": 2,
   "id": "774902a1",
   "metadata": {},
   "outputs": [
    {
     "name": "stdout",
     "output_type": "stream",
     "text": [
      "repeating elements are : 2 3 "
     ]
    }
   ],
   "source": [
    "Dupplicates([0, 4, 3, 2, 7, 8, 2, 3, 1] )"
   ]
  },
  {
   "cell_type": "code",
   "execution_count": null,
   "id": "73cf872f",
   "metadata": {},
   "outputs": [],
   "source": []
  },
  {
   "cell_type": "code",
   "execution_count": null,
   "id": "ba311035",
   "metadata": {},
   "outputs": [],
   "source": []
  }
 ],
 "metadata": {
  "kernelspec": {
   "display_name": "Python 3 (ipykernel)",
   "language": "python",
   "name": "python3"
  },
  "language_info": {
   "codemirror_mode": {
    "name": "ipython",
    "version": 3
   },
   "file_extension": ".py",
   "mimetype": "text/x-python",
   "name": "python",
   "nbconvert_exporter": "python",
   "pygments_lexer": "ipython3",
   "version": "3.10.4"
  }
 },
 "nbformat": 4,
 "nbformat_minor": 5
}
